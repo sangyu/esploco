{
 "cells": [
  {
   "cell_type": "code",
   "execution_count": null,
   "id": "b03e61df",
   "metadata": {},
   "outputs": [],
   "source": [
    "#| default_exp Main_Functions"
   ]
  },
  {
   "cell_type": "code",
   "execution_count": null,
   "id": "ada89205",
   "metadata": {},
   "outputs": [],
   "source": [
    "from nbdev.showdoc import *\n",
    "from esploco import esploco "
   ]
  },
  {
   "cell_type": "markdown",
   "id": "60362263",
   "metadata": {},
   "source": [
    "# API"
   ]
  },
  {
   "cell_type": "code",
   "execution_count": null,
   "id": "61363d18",
   "metadata": {},
   "outputs": [
    {
     "data": {
      "text/markdown": [
       "---\n",
       "\n",
       "[source](https://github.com/sangyu/esploco/blob/main/esploco/esploco.py#LNone){target=\"_blank\" style=\"float:right; font-size:smaller\"}\n",
       "\n",
       "### esploco.__init__\n",
       "\n",
       ">      esploco.__init__ (dataFolder, startMin=0, endMin=120,\n",
       ">                        companionEspObj=None, initialResamplePeriod=50,\n",
       ">                        smoothing=True, longForm=False)\n",
       "\n",
       "Reads and stores information from countLogs produced by Critta espresso plugin\n",
       "\n",
       "|    | **Type** | **Default** | **Details** |\n",
       "| -- | -------- | ----------- | ----------- |\n",
       "| dataFolder | str |  | path to the directory containing all output files of espresso assay |\n",
       "| startMin | int | 0 | starting minute for analysis |\n",
       "| endMin | int | 120 | ending minute for analysis |\n",
       "| companionEspObj | NoneType | None | from the espresso analysis package |\n",
       "| initialResamplePeriod | int | 50 | period of sample in ms (initialResamplePeriod = 50 ms, sampling frequency = 1000/50 = 20 Hz), default 50 |\n",
       "| smoothing | bool | True | whether or not to smooth the trajectories, default True |\n",
       "| longForm | bool | False | whether or not the data input is the same set of flies but over many days. |\n",
       "| **Returns** | **`esploco` object** |  | **`esploco.resultsDf` : contains relevant output metrics <br>`esploco.resultsDf.ID` : from metadata<br>`esploco.resultsDf.Status` : 'Test' or 'Ctrl'<br>`esploco.resultsDf.Genotype` : genotype<br>`esploco.resultsDf.Sex` : from metadata<br>`esploco.resultsDf.MinimumAge` : from metadata<br>`esploco.resultsDf.MaximumAge` : from metadata <br>`esploco.resultsDf.Food1` : from metadata<br>`esploco.resultsDf.Food2` : from metadata <br>`esploco.resultsDf.Temperature` : from metadata <br>`esploco.resultsDf.#Flies` : from metadata <br>`esploco.resultsDf.Starvedhrs` : from metadata <br>`esploco.resultsDf.Date` : date of feedlog<br>`esploco.resultsDf.averageSpeed_mm/s` : instantaneous speed of the fly <br>`esploco.resultsDf.xPosition_mm` : instantaneous x position of the fly <br>`esploco.resultsDf.yPosition_mm` : instantaneous y position of the fly <br>`esploco.resultsDf.inLeftPort` : proportion of time the fly was in left port<br>`esploco.resultsDf.inRightPort` : proportion of time the fly was in right port <br>`esploco.resultsDf.countLogDate` : date from countlog<br>`esploco.resultsDf.feedLogDate` : date from feedlog** |"
      ],
      "text/plain": [
       "---\n",
       "\n",
       "[source](https://github.com/sangyu/esploco/blob/main/esploco/esploco.py#LNone){target=\"_blank\" style=\"float:right; font-size:smaller\"}\n",
       "\n",
       "### esploco.__init__\n",
       "\n",
       ">      esploco.__init__ (dataFolder, startMin=0, endMin=120,\n",
       ">                        companionEspObj=None, initialResamplePeriod=50,\n",
       ">                        smoothing=True, longForm=False)\n",
       "\n",
       "Reads and stores information from countLogs produced by Critta espresso plugin\n",
       "\n",
       "|    | **Type** | **Default** | **Details** |\n",
       "| -- | -------- | ----------- | ----------- |\n",
       "| dataFolder | str |  | path to the directory containing all output files of espresso assay |\n",
       "| startMin | int | 0 | starting minute for analysis |\n",
       "| endMin | int | 120 | ending minute for analysis |\n",
       "| companionEspObj | NoneType | None | from the espresso analysis package |\n",
       "| initialResamplePeriod | int | 50 | period of sample in ms (initialResamplePeriod = 50 ms, sampling frequency = 1000/50 = 20 Hz), default 50 |\n",
       "| smoothing | bool | True | whether or not to smooth the trajectories, default True |\n",
       "| longForm | bool | False | whether or not the data input is the same set of flies but over many days. |\n",
       "| **Returns** | **`esploco` object** |  | **`esploco.resultsDf` : contains relevant output metrics <br>`esploco.resultsDf.ID` : from metadata<br>`esploco.resultsDf.Status` : 'Test' or 'Ctrl'<br>`esploco.resultsDf.Genotype` : genotype<br>`esploco.resultsDf.Sex` : from metadata<br>`esploco.resultsDf.MinimumAge` : from metadata<br>`esploco.resultsDf.MaximumAge` : from metadata <br>`esploco.resultsDf.Food1` : from metadata<br>`esploco.resultsDf.Food2` : from metadata <br>`esploco.resultsDf.Temperature` : from metadata <br>`esploco.resultsDf.#Flies` : from metadata <br>`esploco.resultsDf.Starvedhrs` : from metadata <br>`esploco.resultsDf.Date` : date of feedlog<br>`esploco.resultsDf.averageSpeed_mm/s` : instantaneous speed of the fly <br>`esploco.resultsDf.xPosition_mm` : instantaneous x position of the fly <br>`esploco.resultsDf.yPosition_mm` : instantaneous y position of the fly <br>`esploco.resultsDf.inLeftPort` : proportion of time the fly was in left port<br>`esploco.resultsDf.inRightPort` : proportion of time the fly was in right port <br>`esploco.resultsDf.countLogDate` : date from countlog<br>`esploco.resultsDf.feedLogDate` : date from feedlog** |"
      ]
     },
     "execution_count": null,
     "metadata": {},
     "output_type": "execute_result"
    }
   ],
   "source": [
    "show_doc(esploco.esploco.__init__)"
   ]
  },
  {
   "cell_type": "code",
   "execution_count": null,
   "id": "e4898dd6",
   "metadata": {},
   "outputs": [
    {
     "data": {
      "text/markdown": [
       "---\n",
       "\n",
       "[source](https://github.com/sangyu/esploco/blob/main/esploco/esploco.py#LNone){target=\"_blank\" style=\"float:right; font-size:smaller\"}\n",
       "\n",
       "### esploco.calculatePeriFeedSpeed\n",
       "\n",
       ">      esploco.calculatePeriFeedSpeed (companionEspObj, monitorWindow=120,\n",
       ">                                      startSeconds=0, plotDiagonal=True,\n",
       ">                                      plotContrast=True)\n",
       "\n",
       "Calculates speed of the fly around a feed\n",
       "\n",
       "|    | **Type** | **Default** | **Details** |\n",
       "| -- | -------- | ----------- | ----------- |\n",
       "| companionEspObj | object, default None |  | from the espresso analysis package |\n",
       "| monitorWindow | int | 120 | size of the window in seconds before and after the feed to monitor speed in |\n",
       "| startSeconds | int | 0 | lower range of data to analyse, deprecated in v.23.12.11 |\n",
       "| plotDiagonal | bool | True | whether or not to plot the diagonal speed plot  |\n",
       "| plotContrast | bool | True | whether or not to plot the contrast plots  |\n",
       "| **Returns** | **`esploco.feedsRevisedDf`** |  | **pandas dataframe that contains individual feeds and info about them in a time series.** |"
      ],
      "text/plain": [
       "---\n",
       "\n",
       "[source](https://github.com/sangyu/esploco/blob/main/esploco/esploco.py#LNone){target=\"_blank\" style=\"float:right; font-size:smaller\"}\n",
       "\n",
       "### esploco.calculatePeriFeedSpeed\n",
       "\n",
       ">      esploco.calculatePeriFeedSpeed (companionEspObj, monitorWindow=120,\n",
       ">                                      startSeconds=0, plotDiagonal=True,\n",
       ">                                      plotContrast=True)\n",
       "\n",
       "Calculates speed of the fly around a feed\n",
       "\n",
       "|    | **Type** | **Default** | **Details** |\n",
       "| -- | -------- | ----------- | ----------- |\n",
       "| companionEspObj | object, default None |  | from the espresso analysis package |\n",
       "| monitorWindow | int | 120 | size of the window in seconds before and after the feed to monitor speed in |\n",
       "| startSeconds | int | 0 | lower range of data to analyse, deprecated in v.23.12.11 |\n",
       "| plotDiagonal | bool | True | whether or not to plot the diagonal speed plot  |\n",
       "| plotContrast | bool | True | whether or not to plot the contrast plots  |\n",
       "| **Returns** | **`esploco.feedsRevisedDf`** |  | **pandas dataframe that contains individual feeds and info about them in a time series.** |"
      ]
     },
     "execution_count": null,
     "metadata": {},
     "output_type": "execute_result"
    }
   ],
   "source": [
    "show_doc(esploco.esploco.calculatePeriFeedSpeed)"
   ]
  },
  {
   "cell_type": "code",
   "execution_count": null,
   "id": "961449eb",
   "metadata": {},
   "outputs": [
    {
     "data": {
      "text/markdown": [
       "---\n",
       "\n",
       "[source](https://github.com/sangyu/esploco/blob/main/esploco/esploco.py#LNone){target=\"_blank\" style=\"float:right; font-size:smaller\"}\n",
       "\n",
       "### esploco.calculateFallEvents\n",
       "\n",
       ">      esploco.calculateFallEvents (nstd=4, windowsize=1000, ewm1=12, ewm2=26,\n",
       ">                                   ewm3=9)\n",
       "\n",
       "Detects fall events\n",
       "\n",
       "|    | **Type** | **Default** | **Details** |\n",
       "| -- | -------- | ----------- | ----------- |\n",
       "| nstd | int | 4 | parameter in macd analysis |\n",
       "| windowsize | int | 1000 | window size in macd analysis |\n",
       "| ewm1 | int | 12 | parameter in macd analysis |\n",
       "| ewm2 | int | 26 | parameter in macd analysis |\n",
       "| ewm3 | int | 9 | parameter in macd analysis |\n",
       "| **Returns** | **`self.resultsDf`** |  | **updated to include `falls`** |"
      ],
      "text/plain": [
       "---\n",
       "\n",
       "[source](https://github.com/sangyu/esploco/blob/main/esploco/esploco.py#LNone){target=\"_blank\" style=\"float:right; font-size:smaller\"}\n",
       "\n",
       "### esploco.calculateFallEvents\n",
       "\n",
       ">      esploco.calculateFallEvents (nstd=4, windowsize=1000, ewm1=12, ewm2=26,\n",
       ">                                   ewm3=9)\n",
       "\n",
       "Detects fall events\n",
       "\n",
       "|    | **Type** | **Default** | **Details** |\n",
       "| -- | -------- | ----------- | ----------- |\n",
       "| nstd | int | 4 | parameter in macd analysis |\n",
       "| windowsize | int | 1000 | window size in macd analysis |\n",
       "| ewm1 | int | 12 | parameter in macd analysis |\n",
       "| ewm2 | int | 26 | parameter in macd analysis |\n",
       "| ewm3 | int | 9 | parameter in macd analysis |\n",
       "| **Returns** | **`self.resultsDf`** |  | **updated to include `falls`** |"
      ]
     },
     "execution_count": null,
     "metadata": {},
     "output_type": "execute_result"
    }
   ],
   "source": [
    "show_doc(esploco.esploco.calculateFallEvents)"
   ]
  },
  {
   "cell_type": "code",
   "execution_count": null,
   "id": "af1ce6f9",
   "metadata": {},
   "outputs": [
    {
     "data": {
      "text/markdown": [
       "---\n",
       "\n",
       "[source](https://github.com/sangyu/esploco/blob/main/esploco/esploco.py#LNone){target=\"_blank\" style=\"float:right; font-size:smaller\"}\n",
       "\n",
       "### esploco.plotStacked\n",
       "\n",
       ">      esploco.plotStacked (endMin=120, metricsToStack=['Volume', 'Speed'],\n",
       ">                           colorBy='Genotype', customPalette=None,\n",
       ">                           figsize=None, dotratio=20, dotbase=5,\n",
       ">                           plotNonFeeders=True, ylimPresets=None,\n",
       ">                           showRasterYticks=False)\n",
       "\n",
       "Plots a raster of feeds stacked with a selection of other metrics in a ribbon"
      ],
      "text/plain": [
       "---\n",
       "\n",
       "[source](https://github.com/sangyu/esploco/blob/main/esploco/esploco.py#LNone){target=\"_blank\" style=\"float:right; font-size:smaller\"}\n",
       "\n",
       "### esploco.plotStacked\n",
       "\n",
       ">      esploco.plotStacked (endMin=120, metricsToStack=['Volume', 'Speed'],\n",
       ">                           colorBy='Genotype', customPalette=None,\n",
       ">                           figsize=None, dotratio=20, dotbase=5,\n",
       ">                           plotNonFeeders=True, ylimPresets=None,\n",
       ">                           showRasterYticks=False)\n",
       "\n",
       "Plots a raster of feeds stacked with a selection of other metrics in a ribbon"
      ]
     },
     "execution_count": null,
     "metadata": {},
     "output_type": "execute_result"
    }
   ],
   "source": [
    "show_doc(esploco.esploco.plotStacked)"
   ]
  },
  {
   "cell_type": "code",
   "execution_count": null,
   "id": "d663805c",
   "metadata": {},
   "outputs": [
    {
     "data": {
      "text/markdown": [
       "---\n",
       "\n",
       "[source](https://github.com/sangyu/esploco/blob/main/esploco/esploco.py#LNone){target=\"_blank\" style=\"float:right; font-size:smaller\"}\n",
       "\n",
       "### esploco.plotChamberSmallMultiples\n",
       "\n",
       ">      esploco.plotChamberSmallMultiples (ncol=15, customPalette=None,\n",
       ">                                         setNumber=None)\n",
       "\n",
       "Plots trajectories and or heatmaps in the arrangement of the chambers for each dataset\n",
       "\n",
       "|    | **Type** | **Default** | **Details** |\n",
       "| -- | -------- | ----------- | ----------- |\n",
       "| ncol | int | 15 | number of columns for the plots. |\n",
       "| customPalette | NoneType | None | user can supply a dict for use as a custom palette. |\n",
       "| setNumber | NoneType | None | user specfied set to plot. |\n",
       "| **Returns** | **`chamberSmallsTrack`** |  | **figure object.** |"
      ],
      "text/plain": [
       "---\n",
       "\n",
       "[source](https://github.com/sangyu/esploco/blob/main/esploco/esploco.py#LNone){target=\"_blank\" style=\"float:right; font-size:smaller\"}\n",
       "\n",
       "### esploco.plotChamberSmallMultiples\n",
       "\n",
       ">      esploco.plotChamberSmallMultiples (ncol=15, customPalette=None,\n",
       ">                                         setNumber=None)\n",
       "\n",
       "Plots trajectories and or heatmaps in the arrangement of the chambers for each dataset\n",
       "\n",
       "|    | **Type** | **Default** | **Details** |\n",
       "| -- | -------- | ----------- | ----------- |\n",
       "| ncol | int | 15 | number of columns for the plots. |\n",
       "| customPalette | NoneType | None | user can supply a dict for use as a custom palette. |\n",
       "| setNumber | NoneType | None | user specfied set to plot. |\n",
       "| **Returns** | **`chamberSmallsTrack`** |  | **figure object.** |"
      ]
     },
     "execution_count": null,
     "metadata": {},
     "output_type": "execute_result"
    }
   ],
   "source": [
    "show_doc(esploco.esploco.plotChamberSmallMultiples)"
   ]
  },
  {
   "cell_type": "code",
   "execution_count": null,
   "id": "2cc7dc4b",
   "metadata": {},
   "outputs": [
    {
     "data": {
      "text/markdown": [
       "---\n",
       "\n",
       "[source](https://github.com/sangyu/esploco/blob/main/esploco/esploco.py#LNone){target=\"_blank\" style=\"float:right; font-size:smaller\"}\n",
       "\n",
       "### esploco.plotMeanHeatMaps\n",
       "\n",
       ">      esploco.plotMeanHeatMaps (binSize=0.2, row=None, col=None,\n",
       ">                                reverseRows=False, reverseCols=False,\n",
       ">                                verbose=False, heatmapCMap='RdYlBu_r',\n",
       ">                                smooth=2)\n",
       "\n",
       "Plots heatmap of mean duration stayed at each location throughout the chamber grouped by criteria\n",
       "\n",
       "|    | **Type** | **Default** | **Details** |\n",
       "| -- | -------- | ----------- | ----------- |\n",
       "| binSize | float | 0.2 | the size of the pixel in the heatmap |\n",
       "| row | NoneType | None | a column name or independent variable to use for grouping the rows |\n",
       "| col | NoneType | None | a column name or independent variable to use for grouping the columns |\n",
       "| reverseRows | bool | False | to reverse the order of the rows  |\n",
       "| reverseCols | bool | False | to reverse the order of the columns  |\n",
       "| verbose | bool | False | to produce output |\n",
       "| heatmapCMap | str | RdYlBu_r | colormap used for the heatmap |\n",
       "| smooth | int | 2 |  |\n",
       "| **Returns** | **`meanHeatmapFig`** |  | **figure object.** |"
      ],
      "text/plain": [
       "---\n",
       "\n",
       "[source](https://github.com/sangyu/esploco/blob/main/esploco/esploco.py#LNone){target=\"_blank\" style=\"float:right; font-size:smaller\"}\n",
       "\n",
       "### esploco.plotMeanHeatMaps\n",
       "\n",
       ">      esploco.plotMeanHeatMaps (binSize=0.2, row=None, col=None,\n",
       ">                                reverseRows=False, reverseCols=False,\n",
       ">                                verbose=False, heatmapCMap='RdYlBu_r',\n",
       ">                                smooth=2)\n",
       "\n",
       "Plots heatmap of mean duration stayed at each location throughout the chamber grouped by criteria\n",
       "\n",
       "|    | **Type** | **Default** | **Details** |\n",
       "| -- | -------- | ----------- | ----------- |\n",
       "| binSize | float | 0.2 | the size of the pixel in the heatmap |\n",
       "| row | NoneType | None | a column name or independent variable to use for grouping the rows |\n",
       "| col | NoneType | None | a column name or independent variable to use for grouping the columns |\n",
       "| reverseRows | bool | False | to reverse the order of the rows  |\n",
       "| reverseCols | bool | False | to reverse the order of the columns  |\n",
       "| verbose | bool | False | to produce output |\n",
       "| heatmapCMap | str | RdYlBu_r | colormap used for the heatmap |\n",
       "| smooth | int | 2 |  |\n",
       "| **Returns** | **`meanHeatmapFig`** |  | **figure object.** |"
      ]
     },
     "execution_count": null,
     "metadata": {},
     "output_type": "execute_result"
    }
   ],
   "source": [
    "show_doc(esploco.esploco.plotMeanHeatMaps)"
   ]
  },
  {
   "cell_type": "code",
   "execution_count": null,
   "id": "6eee921d",
   "metadata": {},
   "outputs": [],
   "source": []
  },
  {
   "cell_type": "code",
   "execution_count": null,
   "id": "c61ba088",
   "metadata": {},
   "outputs": [],
   "source": []
  },
  {
   "cell_type": "code",
   "execution_count": null,
   "id": "adae42bc",
   "metadata": {},
   "outputs": [],
   "source": []
  },
  {
   "cell_type": "code",
   "execution_count": null,
   "id": "19b5b556",
   "metadata": {},
   "outputs": [],
   "source": []
  }
 ],
 "metadata": {
  "kernelspec": {
   "display_name": "python3",
   "language": "python",
   "name": "python3"
  }
 },
 "nbformat": 4,
 "nbformat_minor": 5
}
